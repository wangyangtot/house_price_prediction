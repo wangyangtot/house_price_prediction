{
 "cells": [
  {
   "cell_type": "code",
   "execution_count": 53,
   "metadata": {
    "collapsed": true
   },
   "outputs": [],
   "source": [
    "import numpy as np\n",
    "import pandas as pd\n",
    "import xgboost as xgb\n",
    "import matplotlib.pyplot as plt\n",
    "from sklearn import model_selection, preprocessing\n",
    "%matplotlib inline\n",
    "\n"
   ]
  },
  {
   "cell_type": "code",
   "execution_count": 54,
   "metadata": {
    "collapsed": true
   },
   "outputs": [],
   "source": [
    "macro_cols = [\"balance_trade\", \"balance_trade_growth\", \"eurrub\", \"average_provision_of_build_contract\",\n",
    "              \"micex_rgbi_tr\", \"micex_cbi_tr\", \"deposits_rate\", \"mortgage_value\", \"mortgage_rate\",\n",
    "              \"income_per_cap\", \"rent_price_4+room_bus\", \"museum_visitis_per_100_cap\", \"apartment_build\"]\n"
   ]
  },
  {
   "cell_type": "code",
   "execution_count": 55,
   "metadata": {
    "collapsed": false
   },
   "outputs": [
    {
     "name": "stdout",
     "output_type": "stream",
     "text": [
      "(30471, 292)\n",
      "(7662, 291)\n",
      "(2484, 14)\n"
     ]
    }
   ],
   "source": [
    "df_train = pd.read_csv(\"/Users/yangyangwang/kaggle/Sberbank-Russian-Housing-Market/train.csv\", parse_dates=['timestamp'])\n",
    "df_test = pd.read_csv(\"/Users/yangyangwang/kaggle/Sberbank-Russian-Housing-Market/test.csv\", parse_dates=['timestamp'])\n",
    "#df_fix=pd.read_excel(\"/Users/yangyangwang/kaggle/Sberbank-Russian-Housing-Market/BAD_ADDRESS_FIX.xlsx\").set_index('id')\n",
    "df_macro = pd.read_csv(\"/Users/yangyangwang/kaggle/Sberbank-Russian-Housing-Market/macro.csv\", parse_dates=['timestamp'],usecols=['timestamp'] + macro_cols)\n",
    "print df_train.shape\n",
    "print df_test.shape\n",
    "#print df_fix.shape\n",
    "print df_macro.shape\n"
   ]
  },
  {
   "cell_type": "code",
   "execution_count": 56,
   "metadata": {
    "collapsed": false
   },
   "outputs": [
    {
     "name": "stdout",
     "output_type": "stream",
     "text": [
      "0         5850000\n",
      "1         6000000\n",
      "2         5700000\n",
      "3        13100000\n",
      "4        16331452\n",
      "5         9100000\n",
      "6         5500000\n",
      "7         2000000\n",
      "8         5300000\n",
      "9         2000000\n",
      "10        4650000\n",
      "11        4800000\n",
      "12        5100000\n",
      "13        5200000\n",
      "14        5000000\n",
      "15        1850000\n",
      "16        6300000\n",
      "17        5900000\n",
      "18        7900000\n",
      "19        5200000\n",
      "20        8200000\n",
      "21        5200000\n",
      "22        6250000\n",
      "23        5750000\n",
      "24        6000000\n",
      "25        1050000\n",
      "26        5000000\n",
      "27        4700000\n",
      "28        8254400\n",
      "29        5900000\n",
      "           ...   \n",
      "30441    25039300\n",
      "30442     4350000\n",
      "30443     7567425\n",
      "30444    11438948\n",
      "30445    10139368\n",
      "30446     6125400\n",
      "30447     6373324\n",
      "30448     6888144\n",
      "30449     9227657\n",
      "30450    12610000\n",
      "30451     2394300\n",
      "30452     6800000\n",
      "30453     4066740\n",
      "30454     6300000\n",
      "30455     9014972\n",
      "30456     1000000\n",
      "30457     7800000\n",
      "30458     6370777\n",
      "30459     5778893\n",
      "30460     9500000\n",
      "30461     5000000\n",
      "30462    10544070\n",
      "30463    12000000\n",
      "30464    10262010\n",
      "30465     6750554\n",
      "30466     7400000\n",
      "30467    25000000\n",
      "30468     6970959\n",
      "30469    13500000\n",
      "30470     5600000\n",
      "Name: price_doc, dtype: int64\n",
      "[ 15.58195239  15.60727019  15.55597691 ...,  15.75726351  16.41820032\n",
      "  15.53827733]\n"
     ]
    }
   ],
   "source": [
    "ylog_train_all = np.log1p(df_train['price_doc'].values)\n",
    "id_test = df_test['id']\n",
    "print df_train['price_doc']\n",
    "print ylog_train_all"
   ]
  },
  {
   "cell_type": "code",
   "execution_count": 57,
   "metadata": {
    "collapsed": false
   },
   "outputs": [
    {
     "name": "stdout",
     "output_type": "stream",
     "text": [
      "(30471, 290)\n",
      "(7662, 290)\n",
      "(38133, 290)\n",
      "(38133, 303)\n"
     ]
    },
    {
     "data": {
      "text/html": [
       "<div>\n",
       "<table border=\"1\" class=\"dataframe\">\n",
       "  <thead>\n",
       "    <tr style=\"text-align: right;\">\n",
       "      <th></th>\n",
       "      <th>timestamp</th>\n",
       "      <th>full_sq</th>\n",
       "      <th>life_sq</th>\n",
       "      <th>floor</th>\n",
       "      <th>max_floor</th>\n",
       "      <th>material</th>\n",
       "      <th>build_year</th>\n",
       "      <th>num_room</th>\n",
       "      <th>kitch_sq</th>\n",
       "      <th>state</th>\n",
       "      <th>...</th>\n",
       "      <th>average_provision_of_build_contract</th>\n",
       "      <th>micex_rgbi_tr</th>\n",
       "      <th>micex_cbi_tr</th>\n",
       "      <th>deposits_rate</th>\n",
       "      <th>mortgage_value</th>\n",
       "      <th>mortgage_rate</th>\n",
       "      <th>income_per_cap</th>\n",
       "      <th>rent_price_4+room_bus</th>\n",
       "      <th>museum_visitis_per_100_cap</th>\n",
       "      <th>apartment_build</th>\n",
       "    </tr>\n",
       "  </thead>\n",
       "  <tbody>\n",
       "    <tr>\n",
       "      <th>0</th>\n",
       "      <td>2011-08-20</td>\n",
       "      <td>43.0</td>\n",
       "      <td>27.0</td>\n",
       "      <td>4.0</td>\n",
       "      <td>NaN</td>\n",
       "      <td>NaN</td>\n",
       "      <td>NaN</td>\n",
       "      <td>NaN</td>\n",
       "      <td>NaN</td>\n",
       "      <td>NaN</td>\n",
       "      <td>...</td>\n",
       "      <td>5.76</td>\n",
       "      <td>131.16</td>\n",
       "      <td>204.78</td>\n",
       "      <td>4.1</td>\n",
       "      <td>323275</td>\n",
       "      <td>11.84</td>\n",
       "      <td>42688.6</td>\n",
       "      <td>136.11</td>\n",
       "      <td>1240.0</td>\n",
       "      <td>23587.0</td>\n",
       "    </tr>\n",
       "    <tr>\n",
       "      <th>1</th>\n",
       "      <td>2011-08-23</td>\n",
       "      <td>34.0</td>\n",
       "      <td>19.0</td>\n",
       "      <td>3.0</td>\n",
       "      <td>NaN</td>\n",
       "      <td>NaN</td>\n",
       "      <td>NaN</td>\n",
       "      <td>NaN</td>\n",
       "      <td>NaN</td>\n",
       "      <td>NaN</td>\n",
       "      <td>...</td>\n",
       "      <td>5.76</td>\n",
       "      <td>131.45</td>\n",
       "      <td>204.92</td>\n",
       "      <td>4.1</td>\n",
       "      <td>323275</td>\n",
       "      <td>11.84</td>\n",
       "      <td>42688.6</td>\n",
       "      <td>136.11</td>\n",
       "      <td>1240.0</td>\n",
       "      <td>23587.0</td>\n",
       "    </tr>\n",
       "    <tr>\n",
       "      <th>2</th>\n",
       "      <td>2011-08-27</td>\n",
       "      <td>43.0</td>\n",
       "      <td>29.0</td>\n",
       "      <td>2.0</td>\n",
       "      <td>NaN</td>\n",
       "      <td>NaN</td>\n",
       "      <td>NaN</td>\n",
       "      <td>NaN</td>\n",
       "      <td>NaN</td>\n",
       "      <td>NaN</td>\n",
       "      <td>...</td>\n",
       "      <td>5.76</td>\n",
       "      <td>131.08</td>\n",
       "      <td>204.84</td>\n",
       "      <td>4.1</td>\n",
       "      <td>323275</td>\n",
       "      <td>11.84</td>\n",
       "      <td>42688.6</td>\n",
       "      <td>136.11</td>\n",
       "      <td>1240.0</td>\n",
       "      <td>23587.0</td>\n",
       "    </tr>\n",
       "    <tr>\n",
       "      <th>3</th>\n",
       "      <td>2011-09-01</td>\n",
       "      <td>89.0</td>\n",
       "      <td>50.0</td>\n",
       "      <td>9.0</td>\n",
       "      <td>NaN</td>\n",
       "      <td>NaN</td>\n",
       "      <td>NaN</td>\n",
       "      <td>NaN</td>\n",
       "      <td>NaN</td>\n",
       "      <td>NaN</td>\n",
       "      <td>...</td>\n",
       "      <td>5.76</td>\n",
       "      <td>131.45</td>\n",
       "      <td>205.42</td>\n",
       "      <td>4.0</td>\n",
       "      <td>386388</td>\n",
       "      <td>11.92</td>\n",
       "      <td>40311.3</td>\n",
       "      <td>155.22</td>\n",
       "      <td>1240.0</td>\n",
       "      <td>23587.0</td>\n",
       "    </tr>\n",
       "    <tr>\n",
       "      <th>4</th>\n",
       "      <td>2011-09-05</td>\n",
       "      <td>77.0</td>\n",
       "      <td>77.0</td>\n",
       "      <td>4.0</td>\n",
       "      <td>NaN</td>\n",
       "      <td>NaN</td>\n",
       "      <td>NaN</td>\n",
       "      <td>NaN</td>\n",
       "      <td>NaN</td>\n",
       "      <td>NaN</td>\n",
       "      <td>...</td>\n",
       "      <td>5.76</td>\n",
       "      <td>131.19</td>\n",
       "      <td>198.24</td>\n",
       "      <td>4.0</td>\n",
       "      <td>386388</td>\n",
       "      <td>11.92</td>\n",
       "      <td>40311.3</td>\n",
       "      <td>155.22</td>\n",
       "      <td>1240.0</td>\n",
       "      <td>23587.0</td>\n",
       "    </tr>\n",
       "  </tbody>\n",
       "</table>\n",
       "<p>5 rows × 303 columns</p>\n",
       "</div>"
      ],
      "text/plain": [
       "   timestamp  full_sq  life_sq  floor  max_floor  material  build_year  \\\n",
       "0 2011-08-20     43.0     27.0    4.0        NaN       NaN         NaN   \n",
       "1 2011-08-23     34.0     19.0    3.0        NaN       NaN         NaN   \n",
       "2 2011-08-27     43.0     29.0    2.0        NaN       NaN         NaN   \n",
       "3 2011-09-01     89.0     50.0    9.0        NaN       NaN         NaN   \n",
       "4 2011-09-05     77.0     77.0    4.0        NaN       NaN         NaN   \n",
       "\n",
       "   num_room  kitch_sq  state       ...         \\\n",
       "0       NaN       NaN    NaN       ...          \n",
       "1       NaN       NaN    NaN       ...          \n",
       "2       NaN       NaN    NaN       ...          \n",
       "3       NaN       NaN    NaN       ...          \n",
       "4       NaN       NaN    NaN       ...          \n",
       "\n",
       "  average_provision_of_build_contract micex_rgbi_tr  micex_cbi_tr  \\\n",
       "0                                5.76        131.16        204.78   \n",
       "1                                5.76        131.45        204.92   \n",
       "2                                5.76        131.08        204.84   \n",
       "3                                5.76        131.45        205.42   \n",
       "4                                5.76        131.19        198.24   \n",
       "\n",
       "   deposits_rate  mortgage_value  mortgage_rate  income_per_cap  \\\n",
       "0            4.1          323275          11.84         42688.6   \n",
       "1            4.1          323275          11.84         42688.6   \n",
       "2            4.1          323275          11.84         42688.6   \n",
       "3            4.0          386388          11.92         40311.3   \n",
       "4            4.0          386388          11.92         40311.3   \n",
       "\n",
       "   rent_price_4+room_bus  museum_visitis_per_100_cap  apartment_build  \n",
       "0                 136.11                      1240.0          23587.0  \n",
       "1                 136.11                      1240.0          23587.0  \n",
       "2                 136.11                      1240.0          23587.0  \n",
       "3                 155.22                      1240.0          23587.0  \n",
       "4                 155.22                      1240.0          23587.0  \n",
       "\n",
       "[5 rows x 303 columns]"
      ]
     },
     "execution_count": 57,
     "metadata": {},
     "output_type": "execute_result"
    }
   ],
   "source": [
    "df_train.drop(['id', 'price_doc'], axis=1, inplace=True)\n",
    "df_test.drop(['id'], axis=1, inplace=True)\n",
    "print df_train.shape\n",
    "print df_test.shape\n",
    "\n",
    "# Build df_all = (df_train+df_test).join(df_macro)\n",
    "num_train = len(df_train)\n",
    "df_all = pd.concat([df_train, df_test])\n",
    "print df_all.shape\n",
    "df_all = pd.merge(df_all, df_macro, on='timestamp', how='left')\n",
    "print(df_all.shape)\n",
    "df_all.head()  \n",
    "\n",
    "\n"
   ]
  },
  {
   "cell_type": "code",
   "execution_count": null,
   "metadata": {
    "collapsed": false
   },
   "outputs": [],
   "source": []
  },
  {
   "cell_type": "code",
   "execution_count": null,
   "metadata": {
    "collapsed": false
   },
   "outputs": [],
   "source": []
  },
  {
   "cell_type": "code",
   "execution_count": null,
   "metadata": {
    "collapsed": false
   },
   "outputs": [],
   "source": [
    "\n",
    "\n",
    "\n",
    "\n",
    "\n",
    "\n"
   ]
  },
  {
   "cell_type": "code",
   "execution_count": 58,
   "metadata": {
    "collapsed": false
   },
   "outputs": [
    {
     "name": "stdout",
     "output_type": "stream",
     "text": [
      "(38133, 303)\n",
      "timestamp                                datetime64[ns]\n",
      "full_sq                                         float64\n",
      "life_sq                                         float64\n",
      "floor                                           float64\n",
      "max_floor                                       float64\n",
      "material                                        float64\n",
      "build_year                                      float64\n",
      "num_room                                        float64\n",
      "kitch_sq                                        float64\n",
      "state                                           float64\n",
      "product_type                                     object\n",
      "sub_area                                         object\n",
      "area_m                                          float64\n",
      "raion_popul                                       int64\n",
      "green_zone_part                                 float64\n",
      "indust_part                                     float64\n",
      "children_preschool                                int64\n",
      "preschool_quota                                 float64\n",
      "preschool_education_centers_raion                 int64\n",
      "children_school                                   int64\n",
      "school_quota                                    float64\n",
      "school_education_centers_raion                    int64\n",
      "school_education_centers_top_20_raion             int64\n",
      "hospital_beds_raion                             float64\n",
      "healthcare_centers_raion                          int64\n",
      "university_top_20_raion                           int64\n",
      "sport_objects_raion                               int64\n",
      "additional_education_raion                        int64\n",
      "culture_objects_top_25                           object\n",
      "culture_objects_top_25_raion                      int64\n",
      "                                              ...      \n",
      "cafe_count_5000                                   int64\n",
      "cafe_sum_5000_min_price_avg                     float64\n",
      "cafe_sum_5000_max_price_avg                     float64\n",
      "cafe_avg_price_5000                             float64\n",
      "cafe_count_5000_na_price                          int64\n",
      "cafe_count_5000_price_500                         int64\n",
      "cafe_count_5000_price_1000                        int64\n",
      "cafe_count_5000_price_1500                        int64\n",
      "cafe_count_5000_price_2500                        int64\n",
      "cafe_count_5000_price_4000                        int64\n",
      "cafe_count_5000_price_high                        int64\n",
      "big_church_count_5000                             int64\n",
      "church_count_5000                                 int64\n",
      "mosque_count_5000                                 int64\n",
      "leisure_count_5000                                int64\n",
      "sport_count_5000                                  int64\n",
      "market_count_5000                                 int64\n",
      "balance_trade                                   float64\n",
      "balance_trade_growth                            float64\n",
      "eurrub                                          float64\n",
      "average_provision_of_build_contract             float64\n",
      "micex_rgbi_tr                                   float64\n",
      "micex_cbi_tr                                    float64\n",
      "deposits_rate                                   float64\n",
      "mortgage_value                                    int64\n",
      "mortgage_rate                                   float64\n",
      "income_per_cap                                  float64\n",
      "rent_price_4+room_bus                           float64\n",
      "museum_visitis_per_100_cap                      float64\n",
      "apartment_build                                 float64\n",
      "dtype: object\n"
     ]
    }
   ],
   "source": [
    "df_all.head()\n",
    "print df_all.shape\n",
    "print df_all.dtypes\n",
    "\n",
    "\n"
   ]
  },
  {
   "cell_type": "code",
   "execution_count": 59,
   "metadata": {
    "collapsed": false
   },
   "outputs": [],
   "source": [
    "for c in df_all.columns:\n",
    "    if df_all[c].dtype == 'object':\n",
    "        lbl = preprocessing.LabelEncoder()\n",
    "        lbl.fit(list(df_all[c].values))\n",
    "        #print c+'c:  ' \n",
    "        #print lbl.classes_\n",
    "        df_all[c] = lbl.transform(list(df_all[c].values))\n",
    "        # x_train.drop(c,axis=1,inplace=True)\n",
    "        \n",
    "        "
   ]
  },
  {
   "cell_type": "code",
   "execution_count": 60,
   "metadata": {
    "collapsed": false
   },
   "outputs": [
    {
     "data": {
      "text/plain": [
       "(38133, 303)"
      ]
     },
     "execution_count": 60,
     "metadata": {},
     "output_type": "execute_result"
    }
   ],
   "source": [
    "df_numeric = df_all.select_dtypes(exclude=['object'])\n",
    "df_numeric.shape\n",
    "\n"
   ]
  },
  {
   "cell_type": "code",
   "execution_count": 61,
   "metadata": {
    "collapsed": false
   },
   "outputs": [
    {
     "data": {
      "text/plain": [
       "(38133, 0)"
      ]
     },
     "execution_count": 61,
     "metadata": {},
     "output_type": "execute_result"
    }
   ],
   "source": [
    "df_obj = df_all.select_dtypes(include=['object']).copy()\n",
    "for c in df_obj:\n",
    "    df_obj[c] = pd.factorize(df_obj[c])[0]\n",
    "df_obj.shape"
   ]
  },
  {
   "cell_type": "code",
   "execution_count": 62,
   "metadata": {
    "collapsed": true
   },
   "outputs": [],
   "source": [
    "df_values = pd.concat([df_numeric, df_obj], axis=1)\n"
   ]
  },
  {
   "cell_type": "code",
   "execution_count": 63,
   "metadata": {
    "collapsed": false
   },
   "outputs": [
    {
     "name": "stdout",
     "output_type": "stream",
     "text": [
      "(38133, 303)\n"
     ]
    }
   ],
   "source": [
    "X_all = df_values.values\n",
    "\n",
    "print(X_all.shape)"
   ]
  },
  {
   "cell_type": "code",
   "execution_count": 64,
   "metadata": {
    "collapsed": false
   },
   "outputs": [
    {
     "name": "stdout",
     "output_type": "stream",
     "text": [
      "6094\n",
      "30471\n",
      "(30471,)\n"
     ]
    },
    {
     "data": {
      "text/plain": [
       "Index([u'timestamp', u'full_sq', u'life_sq', u'floor', u'max_floor',\n",
       "       u'material', u'build_year', u'num_room', u'kitch_sq', u'state',\n",
       "       ...\n",
       "       u'average_provision_of_build_contract', u'micex_rgbi_tr',\n",
       "       u'micex_cbi_tr', u'deposits_rate', u'mortgage_value', u'mortgage_rate',\n",
       "       u'income_per_cap', u'rent_price_4+room_bus',\n",
       "       u'museum_visitis_per_100_cap', u'apartment_build'],\n",
       "      dtype='object', length=303)"
      ]
     },
     "execution_count": 64,
     "metadata": {},
     "output_type": "execute_result"
    }
   ],
   "source": [
    "num_val = int(num_train * 0.2)\n",
    "print num_val\n",
    "print num_train\n",
    "print ylog_train_all.shape\n",
    "\n",
    "X_train_all = X_all[:num_train] \n",
    "X_train = X_all[:num_train - num_val] #训练数据\n",
    "X_val = X_all[num_train - num_val:num_train] #验证数据\n",
    "ylog_train = ylog_train_all[:-num_val] #训练数据标签\n",
    "ylog_val = ylog_train_all[-num_val:]   #验证数据标签\n",
    "X_test = X_all[num_train:]\n",
    "df_columns = df_values.columns\n",
    "df_columns"
   ]
  },
  {
   "cell_type": "code",
   "execution_count": 65,
   "metadata": {
    "collapsed": false
   },
   "outputs": [
    {
     "name": "stdout",
     "output_type": "stream",
     "text": [
      "('X_train_all shape is', (30471, 303))\n",
      "('X_train shape is', (24377, 303))\n",
      "('y_train shape is', (24377,))\n",
      "('X_val shape is', (6094, 303))\n",
      "('y_val shape is', (6094,))\n",
      "('X_test shape is', (7662, 303))\n"
     ]
    }
   ],
   "source": [
    "print('X_train_all shape is', X_train_all.shape)\n",
    "print('X_train shape is', X_train.shape)\n",
    "print('y_train shape is', ylog_train.shape)\n",
    "print('X_val shape is', X_val.shape)\n",
    "print('y_val shape is', ylog_val.shape)\n",
    "print('X_test shape is', X_test.shape)"
   ]
  },
  {
   "cell_type": "code",
   "execution_count": 66,
   "metadata": {
    "collapsed": false
   },
   "outputs": [
    {
     "ename": "TypeError",
     "evalue": "float() argument must be a string or a number",
     "output_type": "error",
     "traceback": [
      "\u001b[0;31m---------------------------------------------------------------------------\u001b[0m",
      "\u001b[0;31mTypeError\u001b[0m                                 Traceback (most recent call last)",
      "\u001b[0;32m<ipython-input-66-b29000116a73>\u001b[0m in \u001b[0;36m<module>\u001b[0;34m()\u001b[0m\n\u001b[0;32m----> 1\u001b[0;31m \u001b[0mdtrain_all\u001b[0m \u001b[0;34m=\u001b[0m \u001b[0mxgb\u001b[0m\u001b[0;34m.\u001b[0m\u001b[0mDMatrix\u001b[0m\u001b[0;34m(\u001b[0m\u001b[0mX_train_all\u001b[0m\u001b[0;34m,\u001b[0m \u001b[0mylog_train_all\u001b[0m\u001b[0;34m,\u001b[0m \u001b[0mfeature_names\u001b[0m\u001b[0;34m=\u001b[0m\u001b[0mdf_columns\u001b[0m\u001b[0;34m)\u001b[0m \u001b[0;31m#所有数据\u001b[0m\u001b[0;34m\u001b[0m\u001b[0m\n\u001b[0m\u001b[1;32m      2\u001b[0m \u001b[0mdtrain\u001b[0m \u001b[0;34m=\u001b[0m \u001b[0mxgb\u001b[0m\u001b[0;34m.\u001b[0m\u001b[0mDMatrix\u001b[0m\u001b[0;34m(\u001b[0m\u001b[0mX_train\u001b[0m\u001b[0;34m,\u001b[0m \u001b[0mylog_train\u001b[0m\u001b[0;34m,\u001b[0m \u001b[0mfeature_names\u001b[0m\u001b[0;34m=\u001b[0m\u001b[0mdf_columns\u001b[0m\u001b[0;34m)\u001b[0m  \u001b[0;31m#所有数据0.8训练\u001b[0m\u001b[0;34m\u001b[0m\u001b[0m\n\u001b[1;32m      3\u001b[0m \u001b[0mdval\u001b[0m \u001b[0;34m=\u001b[0m \u001b[0mxgb\u001b[0m\u001b[0;34m.\u001b[0m\u001b[0mDMatrix\u001b[0m\u001b[0;34m(\u001b[0m\u001b[0mX_val\u001b[0m\u001b[0;34m,\u001b[0m \u001b[0mylog_val\u001b[0m\u001b[0;34m,\u001b[0m \u001b[0mfeature_names\u001b[0m\u001b[0;34m=\u001b[0m\u001b[0mdf_columns\u001b[0m\u001b[0;34m)\u001b[0m    \u001b[0;31m#所有数据0.2验证\u001b[0m\u001b[0;34m\u001b[0m\u001b[0m\n\u001b[1;32m      4\u001b[0m \u001b[0mdtest\u001b[0m \u001b[0;34m=\u001b[0m \u001b[0mxgb\u001b[0m\u001b[0;34m.\u001b[0m\u001b[0mDMatrix\u001b[0m\u001b[0;34m(\u001b[0m\u001b[0mX_test\u001b[0m\u001b[0;34m,\u001b[0m \u001b[0mfeature_names\u001b[0m\u001b[0;34m=\u001b[0m\u001b[0mdf_columns\u001b[0m\u001b[0;34m)\u001b[0m\u001b[0;34m\u001b[0m\u001b[0m\n",
      "\u001b[0;32m/usr/local/lib/python2.7/site-packages/xgboost/core.pyc\u001b[0m in \u001b[0;36m__init__\u001b[0;34m(self, data, label, missing, weight, silent, feature_names, feature_types, nthread)\u001b[0m\n\u001b[1;32m    276\u001b[0m             \u001b[0mself\u001b[0m\u001b[0;34m.\u001b[0m\u001b[0m_init_from_csc\u001b[0m\u001b[0;34m(\u001b[0m\u001b[0mdata\u001b[0m\u001b[0;34m)\u001b[0m\u001b[0;34m\u001b[0m\u001b[0m\n\u001b[1;32m    277\u001b[0m         \u001b[0;32melif\u001b[0m \u001b[0misinstance\u001b[0m\u001b[0;34m(\u001b[0m\u001b[0mdata\u001b[0m\u001b[0;34m,\u001b[0m \u001b[0mnp\u001b[0m\u001b[0;34m.\u001b[0m\u001b[0mndarray\u001b[0m\u001b[0;34m)\u001b[0m\u001b[0;34m:\u001b[0m\u001b[0;34m\u001b[0m\u001b[0m\n\u001b[0;32m--> 278\u001b[0;31m             \u001b[0mself\u001b[0m\u001b[0;34m.\u001b[0m\u001b[0m_init_from_npy2d\u001b[0m\u001b[0;34m(\u001b[0m\u001b[0mdata\u001b[0m\u001b[0;34m,\u001b[0m \u001b[0mmissing\u001b[0m\u001b[0;34m,\u001b[0m \u001b[0mnthread\u001b[0m\u001b[0;34m)\u001b[0m\u001b[0;34m\u001b[0m\u001b[0m\n\u001b[0m\u001b[1;32m    279\u001b[0m         \u001b[0;32melse\u001b[0m\u001b[0;34m:\u001b[0m\u001b[0;34m\u001b[0m\u001b[0m\n\u001b[1;32m    280\u001b[0m             \u001b[0;32mtry\u001b[0m\u001b[0;34m:\u001b[0m\u001b[0;34m\u001b[0m\u001b[0m\n",
      "\u001b[0;32m/usr/local/lib/python2.7/site-packages/xgboost/core.pyc\u001b[0m in \u001b[0;36m_init_from_npy2d\u001b[0;34m(self, mat, missing, nthread)\u001b[0m\n\u001b[1;32m    344\u001b[0m         \u001b[0;31m# we try to avoid data copies if possible (reshape returns a view when possible\u001b[0m\u001b[0;34m\u001b[0m\u001b[0;34m\u001b[0m\u001b[0m\n\u001b[1;32m    345\u001b[0m         \u001b[0;31m# and we explicitly tell np.array to try and avoid copying)\u001b[0m\u001b[0;34m\u001b[0m\u001b[0;34m\u001b[0m\u001b[0m\n\u001b[0;32m--> 346\u001b[0;31m         \u001b[0mdata\u001b[0m \u001b[0;34m=\u001b[0m \u001b[0mnp\u001b[0m\u001b[0;34m.\u001b[0m\u001b[0marray\u001b[0m\u001b[0;34m(\u001b[0m\u001b[0mmat\u001b[0m\u001b[0;34m.\u001b[0m\u001b[0mreshape\u001b[0m\u001b[0;34m(\u001b[0m\u001b[0mmat\u001b[0m\u001b[0;34m.\u001b[0m\u001b[0msize\u001b[0m\u001b[0;34m)\u001b[0m\u001b[0;34m,\u001b[0m \u001b[0mcopy\u001b[0m\u001b[0;34m=\u001b[0m\u001b[0mFalse\u001b[0m\u001b[0;34m,\u001b[0m \u001b[0mdtype\u001b[0m\u001b[0;34m=\u001b[0m\u001b[0mnp\u001b[0m\u001b[0;34m.\u001b[0m\u001b[0mfloat32\u001b[0m\u001b[0;34m)\u001b[0m\u001b[0;34m\u001b[0m\u001b[0m\n\u001b[0m\u001b[1;32m    347\u001b[0m         \u001b[0mself\u001b[0m\u001b[0;34m.\u001b[0m\u001b[0mhandle\u001b[0m \u001b[0;34m=\u001b[0m \u001b[0mctypes\u001b[0m\u001b[0;34m.\u001b[0m\u001b[0mc_void_p\u001b[0m\u001b[0;34m(\u001b[0m\u001b[0;34m)\u001b[0m\u001b[0;34m\u001b[0m\u001b[0m\n\u001b[1;32m    348\u001b[0m         \u001b[0mmissing\u001b[0m \u001b[0;34m=\u001b[0m \u001b[0mmissing\u001b[0m \u001b[0;32mif\u001b[0m \u001b[0mmissing\u001b[0m \u001b[0;32mis\u001b[0m \u001b[0;32mnot\u001b[0m \u001b[0mNone\u001b[0m \u001b[0;32melse\u001b[0m \u001b[0mnp\u001b[0m\u001b[0;34m.\u001b[0m\u001b[0mnan\u001b[0m\u001b[0;34m\u001b[0m\u001b[0m\n",
      "\u001b[0;31mTypeError\u001b[0m: float() argument must be a string or a number"
     ]
    }
   ],
   "source": [
    "dtrain_all = xgb.DMatrix(X_train_all, ylog_train_all, feature_names=df_columns) #所有数据\n",
    "dtrain = xgb.DMatrix(X_train, ylog_train, feature_names=df_columns)  #所有数据0.8训练\n",
    "dval = xgb.DMatrix(X_val, ylog_val, feature_names=df_columns)    #所有数据0.2验证\n",
    "dtest = xgb.DMatrix(X_test, feature_names=df_columns)"
   ]
  },
  {
   "cell_type": "code",
   "execution_count": null,
   "metadata": {
    "collapsed": true
   },
   "outputs": [],
   "source": [
    "xgb_params = {\n",
    "    'eta': 0.1,  #学习率\n",
    "    'max_depth': 5,#构建树的深度，越大越容易拟合\n",
    "    'subsample': 1.0, #随机采样训练样本\n",
    "    'colsample_bytree': 0.7,#生成树的列采样\n",
    "    'objective': 'reg:linear',#线性回归\n",
    "    'eval_metric': 'rmse',\n",
    "    'silent': 0  #设置成1则没有运行信息输出，最好是设置为0\n",
    "}\n"
   ]
  },
  {
   "cell_type": "code",
   "execution_count": null,
   "metadata": {
    "collapsed": false
   },
   "outputs": [],
   "source": [
    "partial_model = xgb.train(xgb_params, dtrain, num_boost_round=1000, evals=[(dval, 'val')],\n",
    "                          early_stopping_rounds=20, verbose_eval=20)\n",
    "fig, ax = plt.subplots(1, 1, figsize=(8, 16))\n",
    "xgb.plot_importance(partial_model, max_num_features=50, height=0.5, ax=ax)\n",
    "\n"
   ]
  },
  {
   "cell_type": "code",
   "execution_count": null,
   "metadata": {
    "collapsed": false
   },
   "outputs": [],
   "source": [
    "num_boost_round = partial_model.best_iteration\n",
    "\n",
    "model = xgb.train(dict(xgb_params, silent=0), dtrain_all, num_boost_round=num_boost_round)\n",
    "fig, ax = plt.subplots(1, 1, figsize=(8, 16))\n",
    "xgb.plot_importance(model, max_num_features=50, height=0.5, ax=ax)\n",
    "\n",
    "\n"
   ]
  },
  {
   "cell_type": "code",
   "execution_count": null,
   "metadata": {
    "collapsed": false
   },
   "outputs": [],
   "source": [
    "\n",
    "ylog_pred = model.predict(dtest)\n",
    "y_pred = np.exp(ylog_pred) - 1\n",
    "df_sub = pd.DataFrame({'id': id_test, 'price_doc': y_pred})\n"
   ]
  },
  {
   "cell_type": "code",
   "execution_count": null,
   "metadata": {
    "collapsed": false
   },
   "outputs": [],
   "source": [
    "ddtrain = xgb.DMatrix(X_train_all, ylog_train_all)\n",
    "ddtest = xgb.DMatrix(X_test)"
   ]
  },
  {
   "cell_type": "code",
   "execution_count": null,
   "metadata": {
    "collapsed": false
   },
   "outputs": [],
   "source": [
    "cv_output = xgb.cv(xgb_params, ddtrain, num_boost_round=1000, early_stopping_rounds=20,\n",
    "                   verbose_eval=50, show_stdv=False,nfold=10)\n",
    "cv_output[['train-rmse-mean', 'test-rmse-mean']].plot()\n"
   ]
  },
  {
   "cell_type": "code",
   "execution_count": null,
   "metadata": {
    "collapsed": false
   },
   "outputs": [],
   "source": [
    "num_boost_rounds = len(cv_output)\n",
    "model = xgb.train(dict(xgb_params, silent=0), ddtrain, num_boost_round=num_boost_rounds)\n",
    "\n",
    "fig, ax = plt.subplots(1, 1, figsize=(8, 13))\n",
    "xgb.plot_importance(model, max_num_features=50, height=0.5, ax=ax)\n"
   ]
  },
  {
   "cell_type": "code",
   "execution_count": null,
   "metadata": {
    "collapsed": true
   },
   "outputs": [],
   "source": [
    "y_predict = model.predict(ddtest)\n",
    "\n",
    "y_pred = np.exp(y_predict) - 1\n",
    "\n",
    "df_sub = pd.DataFrame({'id': id_test, 'price_doc': y_pred})\n",
    "\n",
    "df_sub.to_csv('/Users/yangyangwang/kaggle/Sberbank-Russian-Housing-Market/subtest.csv', index=False)\n"
   ]
  }
 ],
 "metadata": {
  "kernelspec": {
   "display_name": "Python 2",
   "language": "python",
   "name": "python2"
  },
  "language_info": {
   "codemirror_mode": {
    "name": "ipython",
    "version": 2
   },
   "file_extension": ".py",
   "mimetype": "text/x-python",
   "name": "python",
   "nbconvert_exporter": "python",
   "pygments_lexer": "ipython2",
   "version": "2.7.13"
  }
 },
 "nbformat": 4,
 "nbformat_minor": 2
}
